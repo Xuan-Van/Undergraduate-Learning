{
 "cells": [
  {
   "cell_type": "code",
   "execution_count": 3,
   "id": "e7f08d44",
   "metadata": {},
   "outputs": [
    {
     "name": "stdout",
     "output_type": "stream",
     "text": [
      "请输入正整数:56302\n",
      "[5, 6, 3, 0, 2]\n"
     ]
    }
   ],
   "source": [
    "# 求一个位数不确定正整数的各位数字\n",
    "\n",
    "Num = int(input('请输入正整数:'))\n",
    "res = [int(c) for c in str(Num)] # 字符串转换\n",
    "print(res)"
   ]
  },
  {
   "cell_type": "code",
   "execution_count": 5,
   "id": "c5986ef2",
   "metadata": {},
   "outputs": [
    {
     "name": "stdout",
     "output_type": "stream",
     "text": [
      "140716295558024\n",
      "140716295558056\n",
      "140716295558056\n"
     ]
    }
   ],
   "source": [
    "x = 4\n",
    "print(id(x))\n",
    "y = 5\n",
    "print(id(y))\n",
    "x = y # 不可变数据类型，地址变化\n",
    "print(id(x))"
   ]
  },
  {
   "cell_type": "code",
   "execution_count": 3,
   "id": "0f33f934",
   "metadata": {},
   "outputs": [
    {
     "name": "stdout",
     "output_type": "stream",
     "text": [
      "请输入找零金额（1-99）：66\n",
      "找零25美分硬币2个\n",
      "找零10美分硬币1个\n",
      "找零5美分硬币1个\n",
      "找零1美分硬币1个\n"
     ]
    }
   ],
   "source": [
    "# 找零钱，贪心算法\n",
    "\n",
    "money = int(input(\"请输入找零金额（1-99）：\"))\n",
    "coins = (25, 10, 5, 1)\n",
    "counts = []\n",
    "\n",
    "for coin in coins:\n",
    "    counts.append(money // coin)\n",
    "    money %= coin\n",
    "for i in range(len(counts)):\n",
    "    print(\"找零{0}美分硬币{1}个\".format(coins[i], counts[i]))"
   ]
  },
  {
   "cell_type": "code",
   "execution_count": 1,
   "id": "c8aaeafb",
   "metadata": {},
   "outputs": [
    {
     "name": "stdout",
     "output_type": "stream",
     "text": [
      "体重(kg)=56.6\n",
      "身高(m)=1.74\n",
      "BMI = 18.7\n",
      "正常\n"
     ]
    }
   ],
   "source": [
    "# 求身体体重指数BMI，判断胖瘦程度\n",
    "\n",
    "tz = float(input(\"体重(kg) = \"))\n",
    "sg = float(input(\"身高(m) = \"))\n",
    "bmi = tz / sg / sg\n",
    "print(\"BMI = %.1f\" % bmi)\n",
    "\n",
    "if bmi < 18.5:\n",
    "    print(\"体重偏轻\")\n",
    "elif bmi < 23.0:\n",
    "    print(\"正常\")\n",
    "elif bmi < 25.0:\n",
    "    print(\"超重\")\n",
    "elif bmi < 29.0:\n",
    "    print(\"轻度肥胖\")\n",
    "else:\n",
    "    print(\"肥胖\")"
   ]
  },
  {
   "cell_type": "code",
   "execution_count": 6,
   "id": "d8f67e34",
   "metadata": {},
   "outputs": [
    {
     "name": "stdout",
     "output_type": "stream",
     "text": [
      "日期 = 2024-1-11\n",
      "2024年1月11日是合法日期\n"
     ]
    }
   ],
   "source": [
    "# 判断合法日期\n",
    "\n",
    "date = input(\"日期 = \")\n",
    "leap = False\n",
    "legal = False\n",
    "month1 = (1, 3, 5, 7, 8, 10, 12)\n",
    "month2 = (4, 6, 9, 11)\n",
    "year, month, day = (int(x) for x in tuple(date.split(\"-\")))\n",
    "\n",
    "if year % 4 == 0 and year % 100 != 0 or year % 400 == 0:\n",
    "    leap =True\n",
    "    \n",
    "if month in month1:\n",
    "    if 1 <= day <= 31:\n",
    "        legal = True\n",
    "elif month in month2:\n",
    "    if 1 <= day <=30:\n",
    "        legal = True\n",
    "elif month == 2:\n",
    "    if not leap and 1 <= day <= 28:\n",
    "        legal = True\n",
    "    elif leap and 1 <= day <= 29:\n",
    "        legal = True\n",
    "\n",
    "print(\"%d年%d月%d日是%s\" % (year, month, day, \"合法日期\" if legal else \"不合法日期\"))"
   ]
  },
  {
   "cell_type": "code",
   "execution_count": 8,
   "id": "4bcc5784",
   "metadata": {},
   "outputs": [
    {
     "name": "stdout",
     "output_type": "stream",
     "text": [
      "请输入您猜的数字(1-10000):5000\n",
      "您猜的数字偏大了\n",
      "请输入您猜的数字(1-10000):2500\n",
      "您猜的数字偏大了\n",
      "请输入您猜的数字(1-10000):1250\n",
      "您猜的数字偏大了\n",
      "请输入您猜的数字(1-10000):625\n",
      "您猜的数字偏大了\n",
      "请输入您猜的数字(1-10000):312\n",
      "您猜的数字偏小了\n",
      "请输入您猜的数字(1-10000):469\n",
      "您猜的数字偏大了\n",
      "请输入您猜的数字(1-10000):390\n",
      "您猜的数字偏小了\n",
      "请输入您猜的数字(1-10000):430\n",
      "您猜的数字偏小了\n",
      "请输入您猜的数字(1-10000):450\n",
      "您猜的数字偏大了\n",
      "请输入您猜的数字(1-10000):440\n",
      "您猜的数字偏小了\n",
      "请输入您猜的数字(1-10000):445\n",
      "您猜的数字偏大了\n",
      "请输入您猜的数字(1-10000):443\n",
      "您猜的数字偏大了\n",
      "请输入您猜的数字(1-10000):441\n",
      "恭喜您猜对了，合计猜了13次\n"
     ]
    }
   ],
   "source": [
    "# 猜数字，二分法\n",
    "\n",
    "import random\n",
    "result = random.randint(1, 10000) # 产生随机数\n",
    "guess = 0\n",
    "count = 0\n",
    "\n",
    "while guess != result:\n",
    "    guess = int(input(\"请输入您猜的数字(1-10000):\"))\n",
    "    count += 1\n",
    "    if guess > result:\n",
    "        print(\"您猜的数字偏大了\")\n",
    "    elif guess < result:\n",
    "        print(\"您猜的数字偏小了\")\n",
    "\n",
    "print(\"恭喜您猜对了，合计猜了{0}次\".format(count))"
   ]
  },
  {
   "cell_type": "code",
   "execution_count": 27,
   "id": "95d65fdb",
   "metadata": {},
   "outputs": [
    {
     "name": "stdout",
     "output_type": "stream",
     "text": [
      "2024-1-11是星期4\n",
      "4\n",
      "4\n"
     ]
    }
   ],
   "source": [
    "# 判断日期是星期几\n",
    "\n",
    "import datetime\n",
    "mon_days = [31, 28, 31, 30, 31, 30, 31, 31, 30, 31, 30, 31]\n",
    "y = 2024\n",
    "m = 1\n",
    "d = 11\n",
    "\n",
    "sum_days = 0\n",
    "for i in range(1900, y):\n",
    "    if(i % 4 == 0 and i % 100 != 0) or i % 400 == 0:\n",
    "        sum_days += 366\n",
    "    else:\n",
    "        sum_days += 365\n",
    "\n",
    "for i in range(1, m):\n",
    "    if i != 2:\n",
    "        sum_days += mon_days[i-1]\n",
    "    else:\n",
    "        if(y % 4 == 0 and y % 100 != 0) or y % 400 == 0:\n",
    "            sum_days = sum_days + mon_days[i-1] + 1\n",
    "        else:\n",
    "            sum_days = sum_days + mon_days[i-1]\n",
    "sum_days += d\n",
    "\n",
    "week_day = 1 + (sum_days - 1) % 7\n",
    "print(\"%d-%d-%d是星期%d\"%(y, m, d, week_day))\n",
    "\n",
    "anyday = datetime.datetime(2024, 1, 11).weekday() + 1\n",
    "print(anyday)\n",
    "anyday = int(datetime.datetime(2024, 1, 11).strftime(\"%w\"))\n",
    "print(anyday)"
   ]
  },
  {
   "cell_type": "code",
   "execution_count": 41,
   "id": "842d713c",
   "metadata": {},
   "outputs": [
    {
     "name": "stdout",
     "output_type": "stream",
     "text": [
      "罪犯是： C\n",
      "(0, 0, 1, 1, 0)\n"
     ]
    }
   ],
   "source": [
    "# 寻找罪犯，逻辑推理\n",
    "\n",
    "candidates = \"ABCD\"\n",
    "for ch in candidates:\n",
    "    count = 0\n",
    "    if ch != 'A': count += 1\n",
    "    if ch == 'C': count += 1\n",
    "    if ch == 'D': count += 1\n",
    "    if ch != 'D': count += 1\n",
    "    if count == 3:\n",
    "        print(\"罪犯是：\", ch)\n",
    "        break\n",
    "        \n",
    "values = (0, 1) # 0未参加，1参加\n",
    "candidates = [(A, B, C, D, E) for A in values\n",
    "                              for B in values\n",
    "                              for C in values\n",
    "                              for D in values\n",
    "                              for E in values]\n",
    "for item in candidates:\n",
    "    count = 0\n",
    "    if item[0] + item[1] == 2 or item[0] == 0:# A、B都参加或A没参加\n",
    "        count += 1\n",
    "    if item[1] + item[2] == 1: # B、C一人参加\n",
    "        count += 1\n",
    "    if item[2] == item[3]: # C、D共进退\n",
    "        count += 1\n",
    "    if item[3] + item[4] >= 1: # D、E至少一人参加\n",
    "        count += 1\n",
    "    if item[0] + item[3] + item[4] == 3 or item[4] == 0: # E、A、D一起参加或E没参加\n",
    "        count += 1\n",
    "    if count == 5:\n",
    "        print(item)\n",
    "        break"
   ]
  },
  {
   "cell_type": "code",
   "execution_count": 10,
   "id": "8e345e75",
   "metadata": {},
   "outputs": [
    {
     "name": "stdout",
     "output_type": "stream",
     "text": [
      "1*1=1\t\n",
      "1*2=2\t2*2=4\t\n",
      "1*3=3\t2*3=6\t3*3=9\t\n",
      "1*4=4\t2*4=8\t3*4=12\t4*4=16\t\n",
      "1*5=5\t2*5=10\t3*5=15\t4*5=20\t5*5=25\t\n",
      "1*6=6\t2*6=12\t3*6=18\t4*6=24\t5*6=30\t6*6=36\t\n",
      "1*7=7\t2*7=14\t3*7=21\t4*7=28\t5*7=35\t6*7=42\t7*7=49\t\n",
      "1*8=8\t2*8=16\t3*8=24\t4*8=32\t5*8=40\t6*8=48\t7*8=56\t8*8=64\t\n",
      "1*9=9\t2*9=18\t3*9=27\t4*9=36\t5*9=45\t6*9=54\t7*9=63\t8*9=72\t9*9=81\t\n"
     ]
    }
   ],
   "source": [
    "# 打印9*9乘法表\n",
    "\n",
    "for i in range(1, 10):\n",
    "    for j in range(1, i+1):\n",
    "        print(\"%d*%d=%d\\t\" % (j, i, i * j),end=\"\")\n",
    "    print(\"\")"
   ]
  },
  {
   "cell_type": "code",
   "execution_count": 12,
   "id": "3cc73a15",
   "metadata": {},
   "outputs": [
    {
     "name": "stdout",
     "output_type": "stream",
     "text": [
      "公鸡 0 母鸡25 小鸡75\n",
      "公鸡 4 母鸡18 小鸡78\n",
      "公鸡 8 母鸡11 小鸡81\n",
      "公鸡12 母鸡 4 小鸡84\n"
     ]
    }
   ],
   "source": [
    "# 百钱百鸡，穷举法\n",
    "\n",
    "for cock in range(0, 100 // 5 + 1):\n",
    "    for hen in range(0, 100 // 3 + 1):\n",
    "        chick = 100 - cock - hen\n",
    "        if cock * 5 + hen * 3 + chick // 3 ==100 and chick % 3 == 0:\n",
    "            print(\"公鸡{0:2d} 母鸡{1:2d} 小鸡{2:2d}\".format(cock, hen, chick))"
   ]
  },
  {
   "cell_type": "code",
   "execution_count": 31,
   "id": "0f6521b8",
   "metadata": {},
   "outputs": [
    {
     "name": "stdout",
     "output_type": "stream",
     "text": [
      "2.23606797749979\n",
      "2.23606797749979\n",
      "平方根为：2.236，循环次数为：23608\n",
      "平方根为：2.236，循环次数为：16\n",
      "平方根为：2.236，循环次数为：3\n"
     ]
    }
   ],
   "source": [
    "# 求正整数的平方根\n",
    "\n",
    "import math\n",
    "print(math.sqrt(5))\n",
    "print(5 ** 0.5)\n",
    "\n",
    "num = 5\n",
    "count = 0\n",
    "for i in range(1, num):\n",
    "    count += 1\n",
    "    if i * i > num:\n",
    "        break\n",
    "i -= 1\n",
    "while abs(i * i - num) > 0.0001: # 判断是否逼近\n",
    "    i += 0.00001\n",
    "    count += 1\n",
    "print(\"平方根为：%.3f，循环次数为：%d\" % (mid, count))\n",
    "\n",
    "count = 0\n",
    "low = 0\n",
    "upper = num\n",
    "mid = (upper + low) / 2\n",
    "while abs(mid * mid - num) >= 0.0001: # 二分法\n",
    "    if mid * mid >num:\n",
    "        upper = mid\n",
    "    elif mid * mid <num:\n",
    "        low = mid\n",
    "    mid = (upper + low) / 2\n",
    "    count += 1\n",
    "print(\"平方根为：%.3f，循环次数为：%d\" % (mid, count))\n",
    "\n",
    "count = 0\n",
    "val = num / 2\n",
    "while abs(val * val - num) > 0.0001: # 牛顿迭代法\n",
    "    val = 0.5 * (val + (num / val))\n",
    "    count += 1\n",
    "print(\"平方根为：%.3f，循环次数为：%d\" % (mid, count))"
   ]
  },
  {
   "cell_type": "code",
   "execution_count": 1,
   "id": "45471de3",
   "metadata": {},
   "outputs": [
    {
     "name": "stdout",
     "output_type": "stream",
     "text": [
      "E:582\tT:436\tA:400\tO:350\t\n",
      "I:331\tS:328\tN:310\tR:268\t\n",
      "H:257\tL:240\tD:203\tU:146\t\n",
      "G:131\tF:128\tM:124\tC:120\t\n",
      "Y:112\tB:94\tW:88\tP:78\t\n",
      "V:55\tK:54\tX:13\tJ:8\t\n",
      "Z:4\tQ:4\t"
     ]
    }
   ],
   "source": [
    "# 读取文本文件，统计字母频度\n",
    "\n",
    "f = open(\"data/article.txt\", \"rt\", encoding = \"utf-8\")\n",
    "data = f.readlines()\n",
    "f.close()\n",
    "\n",
    "dic = dict()\n",
    "for line in data:\n",
    "    line = line.upper()\n",
    "    for c in line:\n",
    "        if \"A\" <= c <= \"Z\":\n",
    "            dic[c] = dic.get(c, 0) + 1\n",
    "            \n",
    "i=0\n",
    "#for k in sorted(dic): # 按字母排序\n",
    "for k in sorted(dic, key = dic.__getitem__, reverse = True): # 按值排序\n",
    "    print(\"%s:%d\\t\" % (k, dic[k]), end = \"\")\n",
    "    i += 1\n",
    "    if i % 4 == 0:\n",
    "        print(\"\")"
   ]
  },
  {
   "cell_type": "code",
   "execution_count": 14,
   "id": "431fe5bb",
   "metadata": {
    "scrolled": true
   },
   "outputs": [
    {
     "name": "stdout",
     "output_type": "stream",
     "text": [
      "['18812314567', '18812311887', '18812311887']\n",
      "[('0512', '65118888'), ('010', '67676868'), ('0581', '7877777')]\n",
      "0512-65118888   27   40\n",
      "0512   27   31\n",
      "65118888   32   40\n",
      "010-67676868   51   63\n",
      "010   51   54\n",
      "67676868   55   63\n",
      "0581-7877777   72   84\n",
      "0581   72   76\n",
      "7877777   77   84\n"
     ]
    }
   ],
   "source": [
    "# 正则表达式应用\n",
    "\n",
    "import re\n",
    "pa = re.compile('188\\d{8}') # 查找188开头的手机号码\n",
    "res = pa.findall(\"Mr. Johnson had never been up in an 18812314567 aerophane before and he had read a lot about air accidents,13861322188so one day when a friend offered to 218812311887 take him for 188123456a ride in his own small phane, Mr. Johnson was very worried about accepting. Finally, 18812311887 however, his friend persuaded him that it was very safe, and Mr. Johnson boarded the plane.\")\n",
    "print(res)\n",
    "\n",
    "telNumber = \"Suppose my phone number is 0512-65118888, yours is 010-67676868, his is 0581-7877777.\"\n",
    "pa = re.compile('(\\d{3,4})-(\\d{7,8})')\n",
    "res = pa.findall(telNumber)\n",
    "print(res)\n",
    "inx = 0\n",
    "while True: # 显示每个电话号码的区号、市话以及号码在文本中的起始和终止位置\n",
    "    res = pa.search(telNumber, inx)\n",
    "    if not res:\n",
    "        break\n",
    "    for i in range(3):\n",
    "        print(res.group(i), \" \", res.start(i), \" \", res.end(i))\n",
    "    inx = res.end(2)"
   ]
  },
  {
   "cell_type": "code",
   "execution_count": 16,
   "id": "d506f6c3",
   "metadata": {},
   "outputs": [
    {
     "name": "stdout",
     "output_type": "stream",
     "text": [
      "[('西班牙', 6, 5, 1, 5), ('葡萄牙', 5, 4, 1, 5), ('伊朗', 2, 2, 0, 4), ('摩洛哥', 2, 2, 0, 1)]\n"
     ]
    }
   ],
   "source": [
    "# 复杂排序\n",
    "\n",
    "L = [('摩洛哥', 2, 2, 0, 1),\n",
    "     ('葡萄牙', 5, 4, 1, 5),\n",
    "     ('西班牙', 6, 5, 1, 5),\n",
    "     ('伊朗', 2, 2, 0, 4)] # 进球、失球、净胜球、积分\n",
    "L = sorted(L, key = lambda t : t[1], reverse = True)\n",
    "L = sorted(L, key = lambda t : t[3], reverse = True)\n",
    "L = sorted(L, key = lambda t : t[4], reverse = True)\n",
    "print(L) # 先看积分，再看净胜球数，最后看进球数"
   ]
  },
  {
   "cell_type": "code",
   "execution_count": 18,
   "id": "c2cda0e2",
   "metadata": {},
   "outputs": [
    {
     "name": "stdout",
     "output_type": "stream",
     "text": [
      "True\n",
      "False\n"
     ]
    }
   ],
   "source": [
    "# 二分查找\n",
    "\n",
    "def binary_search(L, t, low, high):\n",
    "    while low <= high:\n",
    "        mid = (low + high) // 2\n",
    "        if L[mid] == t:\n",
    "            return True\n",
    "        elif L[mid] < t:\n",
    "            low = mid + 1\n",
    "        else:\n",
    "            high = mid - 1\n",
    "    return False\n",
    "\n",
    "L = [4, 5, 8, 9, 14, 16, 33, 35, 41]\n",
    "print(binary_search(L, 16, 0, len(L) - 1))\n",
    "print(binary_search(L, 17, 0, len(L) - 1))"
   ]
  },
  {
   "cell_type": "code",
   "execution_count": 2,
   "id": "8ff7a9cc",
   "metadata": {},
   "outputs": [
    {
     "name": "stdout",
     "output_type": "stream",
     "text": [
      "2008-09-30\n",
      "1990-10-19\n",
      "2000-02-29\n",
      "2019-07-04\n"
     ]
    }
   ],
   "source": [
    "# 读取文本文件，判断并输出合法日期\n",
    "\n",
    "def read_file(fn): # 读取文件\n",
    "    f = open(fn, \"rt\")\n",
    "    data = f.readlines()\n",
    "    f.close()\n",
    "    return data\n",
    "\n",
    "def legal_date(date): # 判断合法日期\n",
    "    year, month, day = (int(x) for x in tuple(date.split(\"-\")))\n",
    "    if year <= 0 or month <= 0 or day <= 0:\n",
    "        return False\n",
    "    \n",
    "    month1 = {1, 3, 5, 7, 8, 10, 12}\n",
    "    month2 = {4, 6, 9, 11}\n",
    "    leap, legal = False, False\n",
    "    \n",
    "    if year % 4 == 0 and year % 100 != 0 or year % 400 == 0:\n",
    "        leap = True\n",
    "    if month in month1:\n",
    "        if 1 <= day <= 31:\n",
    "            legal = True\n",
    "    elif month in month2:\n",
    "        if 1 <= day <= 30:\n",
    "            legal = True\n",
    "    elif month == 2:\n",
    "        if not leap and 1 <= day <= 28:\n",
    "            legal = True\n",
    "        elif leap and 1 <= day <= 29:\n",
    "            legal = True\n",
    "    return legal\n",
    "\n",
    "def display(data): # 输出合法日期\n",
    "    for item in data:\n",
    "        if legal_date(item):\n",
    "            print(item, end = \"\")\n",
    "\n",
    "if __name__ == '__main__':\n",
    "    display(read_file(\"data/date.txt\"))"
   ]
  },
  {
   "cell_type": "code",
   "execution_count": 20,
   "id": "39984b14",
   "metadata": {},
   "outputs": [
    {
     "name": "stdout",
     "output_type": "stream",
     "text": [
      "请输入一个大于2的偶数，或者输入0退出：10\n",
      "10 = 3 + 7\n",
      "请输入一个大于2的偶数，或者输入0退出：4096\n",
      "4096 = 3 + 4093\n",
      "请输入一个大于2的偶数，或者输入0退出：123456780\n",
      "123456780 = 19 + 123456761\n",
      "请输入一个大于2的偶数，或者输入0退出：0\n",
      "True\n"
     ]
    }
   ],
   "source": [
    "# 验证哥德巴赫猜想：任一大于2的偶数都可写成2个质数之和\n",
    "\n",
    "def is_prime(n): # 判断是否为质数\n",
    "    if n >= 2:\n",
    "        for i in range(2, n):\n",
    "            if n % i == 0:\n",
    "                return False\n",
    "    else:\n",
    "        return False\n",
    "    return True\n",
    "\n",
    "def goldbach(n): # 验证哥德巴赫猜想\n",
    "    if n < 2 or n % 2 == 1:\n",
    "        print(n, '不是一个大于2的偶数')\n",
    "        return\n",
    "    for p in range(2, n):\n",
    "        if is_prime(p) and is_prime(n - p):\n",
    "            print(n, '=', p, '+', n - p)\n",
    "            return\n",
    "    print('哥德巴赫猜想好像有点问题！')\n",
    "    \n",
    "def test_goldbach(): # 测试函数\n",
    "    n = int(input(\"请输入一个大于2的偶数，或者输入0退出：\"))\n",
    "    while n != 0:\n",
    "        goldbach(n)\n",
    "        n = int(input(\"请输入一个大于2的偶数，或者输入0退出：\"))\n",
    "\n",
    "test_goldbach()\n",
    "import sympy\n",
    "print(sympy.isprime(123456761))"
   ]
  },
  {
   "cell_type": "code",
   "execution_count": 8,
   "id": "5fb1c41f",
   "metadata": {},
   "outputs": [
    {
     "name": "stdout",
     "output_type": "stream",
     "text": [
      "0b10011\n",
      "-0b10011\n",
      "19\n",
      "-19\n",
      "10011\n",
      "-10011\n",
      "10000000000\n",
      "0\n"
     ]
    }
   ],
   "source": [
    "# 十进制转二进制\n",
    "\n",
    "def my_bin(n):\n",
    "    L = []\n",
    "    if n < 0:\n",
    "        n *= -1\n",
    "        L.append('-')\n",
    "    v = 1\n",
    "    while v <= n // 2:\n",
    "        v *= 2\n",
    "    while v > 0:\n",
    "        if n < v:\n",
    "            L.append('0')\n",
    "        else:\n",
    "            L.append('1')\n",
    "            n -= v\n",
    "        v //= 2\n",
    "    return ''.join(L)\n",
    "\n",
    "print(bin(19))\n",
    "print(bin(-19))\n",
    "print(int('10011', 2))\n",
    "print(int('-0b10011', 2))\n",
    "print(my_bin(19))\n",
    "print(my_bin(-19))\n",
    "print(my_bin(1024))\n",
    "print(my_bin(0))"
   ]
  },
  {
   "cell_type": "code",
   "execution_count": 10,
   "id": "e33059cf",
   "metadata": {},
   "outputs": [
    {
     "name": "stdout",
     "output_type": "stream",
     "text": [
      "pi=3.1415917\t误差率(*10000)=0.003\n",
      "1\tpi=3.1422024\t误差率(*10000)=1.941\n",
      "2\tpi=3.1421504\t误差率(*10000)=1.775\n",
      "3\tpi=3.1404368\t误差率(*10000)=3.679\n",
      "4\tpi=3.1406532\t误差率(*10000)=2.990\n",
      "5\tpi=3.1421036\t误差率(*10000)=1.626\n",
      "6\tpi=3.1422704\t误差率(*10000)=2.157\n",
      "7\tpi=3.1413448\t误差率(*10000)=0.789\n",
      "8\tpi=3.1411016\t误差率(*10000)=1.563\n",
      "9\tpi=3.1420792\t误差率(*10000)=1.549\n",
      "10\tpi=3.1418184\t误差率(*10000)=0.719\n",
      "11\tpi=3.1416012\t误差率(*10000)=0.027\n",
      "12\tpi=3.1415524\t误差率(*10000)=0.128\n",
      "13\tpi=3.1413452\t误差率(*10000)=0.788\n",
      "14\tpi=3.1418656\t误差率(*10000)=0.869\n",
      "15\tpi=3.1419264\t误差率(*10000)=1.062\n",
      "16\tpi=3.1419140\t误差率(*10000)=1.023\n",
      "17\tpi=3.1418120\t误差率(*10000)=0.698\n",
      "18\tpi=3.1413360\t误差率(*10000)=0.817\n",
      "19\tpi=3.1415420\t误差率(*10000)=0.161\n",
      "20\tpi=3.1421300\t误差率(*10000)=1.710\n",
      "平均误差率(*10000)=1.304\n"
     ]
    }
   ],
   "source": [
    "# 求圆周率\n",
    "\n",
    "PI = 3.141592654\n",
    "pi = 0\n",
    "tm = 1\n",
    "for i in range(0, 1000000): # 莱布尼兹级数法\n",
    "    pi += tm / (2 * i + 1)\n",
    "    tm = -tm\n",
    "pi *= 4\n",
    "print(\"pi=%.7f\\t误差率(*10000)=%.3f\" % (pi, abs(pi - PI) / PI * 10000))\n",
    "\n",
    "import random\n",
    "def gen_pi(): # 蒙特卡洛法\n",
    "    count, max_c = 0, 10000000\n",
    "    for i in range(0, max_c):\n",
    "        x, y = random.random(), random.random()\n",
    "        if x * x + y * y <= 1:\n",
    "            count += 1\n",
    "    return (count / max_c * 4)\n",
    "\n",
    "if __name__ == '__main__': \n",
    "    sum_dif, k = 0, 20\n",
    "    for i in range(k):\n",
    "        pi = gen_pi()\n",
    "        dif = abs(pi - PI) / PI * 10000\n",
    "        sum_dif += dif\n",
    "        print(\"%d\\tpi=%.7f\\t误差率(*10000)=%.3f\" % (i + 1,pi, abs(pi - PI) / PI * 10000))\n",
    "    print(\"平均误差率(*10000)=%.3f\" % (sum_dif / k))"
   ]
  },
  {
   "cell_type": "code",
   "execution_count": 14,
   "id": "177c8fb2",
   "metadata": {},
   "outputs": [
    {
     "name": "stdout",
     "output_type": "stream",
     "text": [
      "6IuP5bee5aSn5a2m\n",
      "y9XW3bTz0ac=\n",
      "gs+7vWSe2zA=\n"
     ]
    }
   ],
   "source": [
    "# Base64编码\n",
    "\n",
    "def base64Encode(string):\n",
    "    oldBin = ''\n",
    "    tempStr = []\n",
    "    result = ''\n",
    "    base64_list = 'ABCDEFGHIJKLMNOPQRSTUVWXYZabcdefghijklmnopqrstuvwxyz0123456789+/'\n",
    "    \n",
    "    for ch in string: # 得到2进制值的字符串流\n",
    "        oldBin += '{:08}'.format(int(str(bin(ord(ch))).replace('0b', '')))\n",
    "    \n",
    "    for i in range(0, len(oldBin), 6): # 通过切片把每6位一合并得到的字符串放到列表中\n",
    "        tempStr.append('{:<06}'.format(oldBin[i : i + 6]))\n",
    "    \n",
    "    for item in tempStr: # 字符串转数字后查表，得到编码结果字符\n",
    "        result += base64_list[int(item, 2)]\n",
    "        \n",
    "    if len(result) % 4 == 2: # 补一个等号\n",
    "        result += '=='\n",
    "    elif len(result) % 4 == 3: # 补两个等号\n",
    "        result += '='\n",
    "    return result\n",
    "\n",
    "import base64\n",
    "res = base64.b64encode(\"苏州大学\".encode('utf-8'))\n",
    "print(str(res, 'utf-8'))\n",
    "res = base64.b64encode(\"苏州大学\".encode('gbk'))\n",
    "print(str(res, 'utf-8'))\n",
    "print(base64Encode(\"苏州大学\"))"
   ]
  },
  {
   "cell_type": "code",
   "execution_count": 24,
   "id": "6fece819",
   "metadata": {},
   "outputs": [
    {
     "name": "stdout",
     "output_type": "stream",
     "text": [
      "24\n",
      "2432902008176640000\n",
      "4\n",
      "c\n",
      "832040\n",
      "(102334155, 63245986)\n"
     ]
    }
   ],
   "source": [
    "# 递归函数\n",
    "\n",
    "def factorial(n): # 计算阶乘\n",
    "    if n == 1:\n",
    "        return 1\n",
    "    else:\n",
    "        return n * factorial(n - 1)\n",
    "\n",
    "print(factorial(4))\n",
    "print(factorial(20))\n",
    "\n",
    "def my_max(L): # 计算列表中的最大值\n",
    "    if len(L) == 1:\n",
    "        return L[0]\n",
    "    else:\n",
    "        return max(L[0], my_max(L[1:]))\n",
    "    \n",
    "print(my_max([2, 3, 1, 4]))\n",
    "print(my_max(['a', 'c', 'A']))\n",
    "\n",
    "def fibonacci(n): # 计算斐波那契数列\n",
    "    if n <= 1:\n",
    "        return n\n",
    "    else:\n",
    "        return fibonacci(n - 1) + fibonacci(n - 2)\n",
    "\n",
    "def good_fibonacci(n): # 改进的斐波那契数列\n",
    "    if n <= 1:\n",
    "        return(n, 0)\n",
    "    else:\n",
    "        (a, b) = good_fibonacci(n - 1)\n",
    "        return (a + b, a)\n",
    "print(fibonacci(30))\n",
    "print(good_fibonacci(40))"
   ]
  },
  {
   "cell_type": "code",
   "execution_count": 1,
   "id": "56b90e2e",
   "metadata": {},
   "outputs": [
    {
     "name": "stdout",
     "output_type": "stream",
     "text": [
      "5 2\n",
      "4 3 3\n",
      "2 2 7\n",
      "[1, 4, 3, 2, 5]\n",
      "5 2\n",
      "4 3 3\n",
      "2 2 7\n",
      "[1, 4, 3, 2, 5]\n"
     ]
    }
   ],
   "source": [
    "# 车队的公共钥匙盒\n",
    "\n",
    "def getInput(): # 获取输入\n",
    "    keyCount, rowCount = map(int, input().split())\n",
    "    keys = [i for i in range(1, keyCount + 1)] # 初始化钥匙盒\n",
    "    datas = []\n",
    "    for i in range(rowCount): # 得到借还记录\n",
    "        datas.append(list(map(int, input().split())))\n",
    "    return keys, datas\n",
    "\n",
    "def preProcess(datas): # 预处理数据\n",
    "    for item in datas: # 得到返还时刻\n",
    "        item[2] = item[1] + item[2]\n",
    "    datas.sort(key = lambda temp:(temp[2], temp[0]))\n",
    "    times = sorted(set([item[1] for item in datas]) | set([item[2] for item in datas]))\n",
    "    # 得到所有借还操作的时刻\n",
    "    return datas, times\n",
    "\n",
    "def process(times, keys, datas): # 模拟借还\n",
    "    for time in times:\n",
    "        for item in datas: # 返还\n",
    "            if item[2] == time:\n",
    "                keys[keys.index(0)] = item[0]\n",
    "                item[2] = -1\n",
    "            elif item[2] > time:\n",
    "                break\n",
    "        for item in datas: # 借\n",
    "            if item[1] == time:\n",
    "                keys[keys.index(item[0])] = 0\n",
    "                item[1] = -1\n",
    "    return keys\n",
    "\n",
    "keys, datas = getInput()\n",
    "datas, times = preProcess(datas)\n",
    "keys = process(times, keys, datas)\n",
    "print(keys)\n",
    "\n",
    "\n",
    "# 方法二\n",
    "\n",
    "keyCount, rowCount = map(int, input().split())\n",
    "keys = [i for i in range(1, keyCount + 1)]\n",
    "datas = []\n",
    "for i in range(rowCount):\n",
    "    temp = list(map(int, input().split()))\n",
    "    datas.append([temp[0], temp[1], 1]) # 借记录\n",
    "    datas.append([temp[0], temp[1] + temp[2], 2]) # 还记录\n",
    "\n",
    "datas.sort(key = lambda temp:(temp[1], -temp[2], temp[0]))\n",
    "\n",
    "for item in datas:\n",
    "    if item[2] == 1:\n",
    "        keys[keys.index(item[0])] = 0\n",
    "    else:\n",
    "        keys[keys.index(0)] = item[0]\n",
    "print(keys)"
   ]
  },
  {
   "cell_type": "code",
   "execution_count": 3,
   "id": "488ac1d4",
   "metadata": {},
   "outputs": [
    {
     "name": "stdout",
     "output_type": "stream",
     "text": [
      "请输入单词或词组：a\n",
      "a[解释]art.一（个，件，...） [L]He is a rye.（他是个吉卜赛绅士。）\n",
      "\n"
     ]
    }
   ],
   "source": [
    "# 简易英汉查询字典\n",
    "\n",
    "def searchWord(filename, word):\n",
    "    with open(filename, \"r\", encoding = 'utf-8') as file:\n",
    "        line = file.readline()\n",
    "        while line != \"\":\n",
    "            idx = line.find('[解释]')\n",
    "            if idx == -1:\n",
    "                continue\n",
    "            else:\n",
    "                if word == line[:idx]:\n",
    "                    return line\n",
    "            line = file.readline()\n",
    "    return \"\"\n",
    "\n",
    "word = input(\"请输入单词或词组：\")\n",
    "line = searchWord(\"data/dict.txt\", word)\n",
    "if line != \"\":\n",
    "    print(line)\n",
    "else:\n",
    "    print(\"查找失败\")"
   ]
  },
  {
   "cell_type": "code",
   "execution_count": 4,
   "id": "49bbc7f8",
   "metadata": {},
   "outputs": [
    {
     "name": "stdout",
     "output_type": "stream",
     "text": [
      "Rwlloc admst qr moi an bobunm.\n",
      "Common sense is not so common.\n"
     ]
    }
   ],
   "source": [
    "# 维吉尼亚加密法\n",
    "\n",
    "LETTERS = 'ABCDEFGHIJKLMNOPQRSTUVWXYZ'\n",
    "\n",
    "def encrypt(msg, key):\n",
    "    return translate_msg(msg, key, 'encrypt')\n",
    "\n",
    "def decrypt(msg, key):\n",
    "    return translate_msg(msg, key, 'decrypt')\n",
    "\n",
    "def translate_msg(msg, key, mode):\n",
    "    cipher = []\n",
    "    key_index = 0\n",
    "    key = key.upper()\n",
    "    for c in msg:\n",
    "        num = LETTERS.find(c.upper())\n",
    "        if num != -1:\n",
    "            if mode == 'encrypt':\n",
    "                num += LETTERS.find(key[key_index])\n",
    "            elif mode == 'decrypt':\n",
    "                num -= LETTERS.find(key[key_index])\n",
    "            num %= len(LETTERS)\n",
    "            if c.isupper():\n",
    "                cipher.append(LETTERS[num])\n",
    "            else:\n",
    "                cipher.append(LETTERS[num].lower())\n",
    "            key_index += 1\n",
    "            if key_index == len(key):\n",
    "                key_index = 0\n",
    "        else:\n",
    "            cipher.append(c)\n",
    "    return ''.join(cipher)\n",
    "\n",
    "msg = 'Common sense is not so common.'\n",
    "key = 'PIZZA'\n",
    "msg_en = encrypt(msg, key)\n",
    "msg_de = decrypt(msg_en, key)\n",
    "print(msg_en)\n",
    "print(msg_de)\n",
    "\n",
    "def encrypt_file(src_file, des_file, key): # 加密文本文件\n",
    "    src_file_obj = open(src_file, encoding = 'utf-8')\n",
    "    msg = src_file_obj.read()\n",
    "    src_file_obj.close()\n",
    "    msg_en = encrypt(msg, key)\n",
    "    des_file_obj = open(des_file, 'w', encoding = 'utf-8')\n",
    "    des_file_obj.write(msg_en)\n",
    "    des_file_obj.close()\n",
    "    \n",
    "def decrypt_file(des_file, src_file, key): # 解密文本文件\n",
    "    des_file_obj = open(des_file, encoding = 'utf-8')\n",
    "    msg_en = des_file_obj.read()\n",
    "    des_file_obj.close()\n",
    "    msg = decrypt(msg_en, key)\n",
    "    src_file_obj = open(src_file, 'w', encoding = 'utf-8')\n",
    "    src_file_obj.write(msg)\n",
    "    src_file_obj.close()\n",
    "    \n",
    "encrypt_file('data/article.txt', 'data/ciphertext.txt', 'PIZZA')\n",
    "decrypt_file('data/ciphertext.txt', 'data/plaintext.txt', 'PIZZA')"
   ]
  },
  {
   "cell_type": "code",
   "execution_count": 4,
   "id": "3ec06283",
   "metadata": {
    "scrolled": false
   },
   "outputs": [
    {
     "name": "stdout",
     "output_type": "stream",
     "text": [
      "谜面为： 尖尖牙齿，大盆嘴，短短腿儿长长尾，捕捉食物流眼泪，人人知它假慈悲（打一动物）\n",
      "请输入您的答案：鳄鱼\n",
      "恭喜您猜对了\n",
      "是否继续猜谜(Y/N)：Y\n",
      "谜面为： 小小姑娘满身黑，秋去江南春来归，从小立志除害虫，身带剪刀满天飞（打一动物）\n",
      "请输入您的答案：燕子\n",
      "恭喜您猜对了\n",
      "是否继续猜谜(Y/N)：Y\n",
      "谜面为： 每隔数日脱旧衣，没有脚爪走得急，攀缘树木多轻便，光滑地面步难移（打一动物）\n",
      "请输入您的答案：壁虎\n",
      "正确答案为： 蛇\n",
      "是否继续猜谜(Y/N)：N\n"
     ]
    }
   ],
   "source": [
    "# 猜谜语游戏设计\n",
    "\n",
    "def GetGuessFromFile(filename): # 读取和构造数据\n",
    "    fp = open(filename, \"r\", encoding = 'utf-8')\n",
    "    allLines = fp.readlines() #读所有行到列表中\n",
    "    fp.close()\n",
    "    myDict = dict()\n",
    "    for line in allLines:\n",
    "        dotIdx = line.find('.')\n",
    "        if dotIdx == -1:\n",
    "            continue\n",
    "        tagIdx = line.rfind('谜底')\n",
    "        if tagIdx == -1:\n",
    "            continue\n",
    "        myDict[line[dotIdx + 1 : tagIdx]] = line[tagIdx + 3 : -2]\n",
    "        # 将谜面和谜底存入字典\n",
    "    return myDict\n",
    "\n",
    "import random\n",
    "def select_guess(myDict): # 随机抽取谜语\n",
    "    question = random.choice(list(myDict.keys()))\n",
    "    return question, myDict[question]\n",
    "\n",
    "def main(): # 逻辑控制\n",
    "    myDict = GetGuessFromFile(\"data/riddle.txt\")\n",
    "    while True:\n",
    "        question, answer = select_guess(myDict)\n",
    "        print(\"谜面为：\", question)\n",
    "        res = input(\"请输入您的答案：\").strip()\n",
    "        if res == answer:\n",
    "            print(\"恭喜您猜对了\")\n",
    "        else:\n",
    "            print(\"正确答案为：\", answer)\n",
    "        isContinue = input(\"是否继续猜谜(Y/N)：\").upper()\n",
    "        if isContinue == \"N\":\n",
    "            break\n",
    "            \n",
    "main()"
   ]
  },
  {
   "cell_type": "code",
   "execution_count": 17,
   "id": "ebcf4f0f",
   "metadata": {},
   "outputs": [
    {
     "name": "stdout",
     "output_type": "stream",
     "text": [
      "请输入您的年龄（18-60）62\n",
      "您的输入不合法！\n",
      "请输入您的年龄（18-60）hi\n",
      "请输入一个整数！\n",
      "请输入您的年龄（18-60）22\n"
     ]
    }
   ],
   "source": [
    "# 利用异常保证用户输入值域合法\n",
    "\n",
    "def get_age():\n",
    "    while True:\n",
    "        try:\n",
    "            num = int(input(\"请输入您的年龄（18-60）\"))\n",
    "            if num < 18 or num > 60:\n",
    "                raise -1\n",
    "            else:\n",
    "                return num\n",
    "        except ValueError:\n",
    "            print(\"请输入一个整数！\")\n",
    "        except:\n",
    "            print(\"您的输入不合法！\")\n",
    "\n",
    "age = get_age()"
   ]
  },
  {
   "cell_type": "code",
   "execution_count": 19,
   "id": "541fa6d0",
   "metadata": {},
   "outputs": [
    {
     "name": "stdout",
     "output_type": "stream",
     "text": [
      "True\n",
      "False\n",
      "False\n",
      "[1, 1, 2, 3, 5, 8, 13, 21, 34, 55, 89, 144, 233]\n"
     ]
    }
   ],
   "source": [
    "# 异常跳出多重循环\n",
    "\n",
    "import math\n",
    "\n",
    "def prime(n):\n",
    "    flag = 0 in [n % d for d in range(2, int(math.sqrt(n)) + 1)]\n",
    "    return 0 if flag else 1\n",
    "\n",
    "def check(arr, k):\n",
    "    count = 0\n",
    "    try:\n",
    "        for it1 in range(len(arr)):\n",
    "            for it2 in range(len(arr[it1])):\n",
    "                count += prime(arr[it1][it2])\n",
    "                if count >= k:\n",
    "                    raise UserWarning\n",
    "    except UserWarning:\n",
    "        return True\n",
    "    return False\n",
    "\n",
    "data1 = [[84, 90, 19], [23, 44, 70], [74, 92, 18], [27, 78, 78]]\n",
    "print(check(data1, 2))\n",
    "print(check(data1, 4))\n",
    "print(check(data1, 3))\n",
    "\n",
    "def fibonacci(seq, k): # 限制斐波那契数列的输出\n",
    "    if seq[-1] >= k:\n",
    "        raise UserWarning\n",
    "    else:\n",
    "        seq.append(seq[-1] + seq[-2])\n",
    "        fibonacci(seq, k)\n",
    "        \n",
    "seq = [1, 1]\n",
    "try:\n",
    "    fibonacci(seq, 200)\n",
    "except UserWarning:\n",
    "    print(seq)"
   ]
  },
  {
   "cell_type": "code",
   "execution_count": 21,
   "id": "e615963c",
   "metadata": {},
   "outputs": [
    {
     "name": "stdout",
     "output_type": "stream",
     "text": [
      "0.9736842105263158\n"
     ]
    }
   ],
   "source": [
    "# KNN分类\n",
    "\n",
    "from sklearn.datasets import load_iris # 导入鸢尾花数据集\n",
    "iris_dataset = load_iris() # 加载数据\n",
    "from sklearn.model_selection import train_test_split # 导入数据集拆分功能\n",
    "X_train, X_test, y_train, y_test = train_test_split(iris_dataset['data'], iris_dataset['target'], random_state = 0) # 拆分训练集和测试集\n",
    "from sklearn.neighbors import KNeighborsClassifier # 导入KNN分类器\n",
    "knn = KNeighborsClassifier(n_neighbors = 1) # 构造分类器并设置参数\n",
    "knn.fit(X_train, y_train) # 训练模型\n",
    "print(knn.score(X_test, y_test)) # 输出在测试集上的测试结果"
   ]
  },
  {
   "cell_type": "code",
   "execution_count": 1,
   "id": "a77295b1",
   "metadata": {},
   "outputs": [
    {
     "name": "stderr",
     "output_type": "stream",
     "text": [
      "Building prefix dict from the default dictionary ...\n"
     ]
    },
    {
     "name": "stdout",
     "output_type": "stream",
     "text": [
      "待切分句： 苏州市位于江苏省的东南角。\n"
     ]
    },
    {
     "name": "stderr",
     "output_type": "stream",
     "text": [
      "Dumping model to file cache C:\\Users\\21830\\AppData\\Local\\Temp\\jieba.cache\n",
      "Loading model cost 1.429 seconds.\n",
      "Prefix dict has been built successfully.\n"
     ]
    },
    {
     "name": "stdout",
     "output_type": "stream",
     "text": [
      "全切分： 苏州 苏州市 州市 位于 江苏 江苏省 的 东南 东南角 。\n",
      "精确切分： 苏州市 位于 江苏省 的 东南角 。\n",
      "搜索引擎切分： 苏州 州市 苏州市 位于 江苏 江苏省 的 东南 东南角 。\n"
     ]
    }
   ],
   "source": [
    "import jieba\n",
    "\n",
    "sentence = \"苏州市位于江苏省的东南角。\"\n",
    "print(\"待切分句：\", sentence)\n",
    "seg_res = jieba.cut(sentence, cut_all = True)\n",
    "print(\"全切分：\", \" \".join(seg_res))\n",
    "seg_res = jieba.cut(sentence, cut_all = False)\n",
    "print(\"精确切分：\", \" \".join(seg_res))\n",
    "seg_res = jieba.cut_for_search(sentence)\n",
    "print(\"搜索引擎切分：\", \" \".join(seg_res))"
   ]
  },
  {
   "cell_type": "code",
   "execution_count": 6,
   "id": "23d49534",
   "metadata": {},
   "outputs": [
    {
     "name": "stderr",
     "output_type": "stream",
     "text": [
      "Building prefix dict from the default dictionary ...\n",
      "Loading model from cache C:\\Users\\21830\\AppData\\Local\\Temp\\jieba.cache\n"
     ]
    },
    {
     "name": "stdout",
     "output_type": "stream",
     "text": [
      "骆驼祥子一我们所要介绍的是祥子，不是骆驼，因为“骆驼”只是个外号；那么，我们就先说祥子，随手儿把骆驼与祥子那点关系说过去，也就算了。北平的洋车夫有许多派：年轻力壮，腿脚灵利的，讲究赁漂亮的车，拉“整天\n"
     ]
    },
    {
     "name": "stderr",
     "output_type": "stream",
     "text": [
      "Loading model cost 1.251 seconds.\n",
      "Prefix dict has been built successfully.\n"
     ]
    },
    {
     "name": "stdout",
     "output_type": "stream",
     "text": [
      "骆驼/祥子/一/我们/所/要/介绍/的/是/祥子/，/不是/骆驼/，/因为/“/骆驼/”/只是/个/外号/；/那么/，/我们/就/先/说祥子/，/随手/儿/把/骆驼/与祥子/那点/关系/说/过去/，/也/就算/了/。/北平/的/洋车夫/有/许多/派/：/年轻力壮/，/腿脚/灵利/的/，/讲究/赁/漂亮/的/车/，/拉/“/整天/儿/”/，/爱/什么/时候/出车/与/收车/都/有/自由/；/拉/出车/来/，/在/固定/的/“/车口/”/或/宅门/一放/，/专等/坐/快车/的/主儿/；/弄/好\n",
      "词组总数:92156\n",
      "词组数:11530\n",
      "平均每词出现次数:7.99\n",
      "[('，', 9546), ('的', 4528), ('。', 3445), ('他', 2498), ('了', 2416), ('！', 1145), ('是', 949), ('“', 803), ('”', 795), ('着', 771), ('；', 763), ('也', 757), ('她', 723), ('在', 685), ('祥子', 639), ('不', 606), ('去', 576), ('你', 525), ('都', 518), ('就', 517)]\n",
      "词组总数:35315\n",
      "词组数:10762\n",
      "平均每词出现次数:3.28\n",
      "[('祥子', 639), ('说', 365), ('钱', 235), ('走', 233), ('想', 218), ('车', 198), ('虎妞', 182), ('心中', 160), ('事', 158), ('吃', 155), ('里', 154), ('拉', 136), ('跑', 126), ('东西', 126), ('曹', 121), ('象', 117), ('一点', 113), ('买', 110), ('拉车', 103), ('太太', 102)]\n",
      "字总数:134278\n",
      "字数:2265\n",
      "平均每字出现次数:59.28\n",
      "[('子', 1730), ('车', 830), ('祥', 811), ('说', 591), ('天', 591), ('点', 568), ('里', 561), ('想', 555), ('心', 489), ('头', 485), ('中', 458), ('钱', 447), ('什', 411), ('家', 406), ('拉', 391), ('事', 389), ('气', 349), ('样', 347), ('生', 345), ('走', 339), ('象', 336), ('先', 320), ('太', 287), ('似', 279), ('眼', 263), ('意', 257), ('回', 246), ('道', 244), ('吃', 242), ('两', 241), ('虎', 232), ('话', 228), ('买', 227), ('知', 227), ('手', 224), ('十', 222), ('作', 220), ('口', 216), ('明', 215), ('觉', 214), ('候', 213), ('门', 206), ('身', 206), ('声', 206), ('块', 200), ('西', 199), ('住', 182), ('妞', 182), ('成', 181), ('开', 175)]\n",
      "买 想着 志愿 笑 顺心 喝 一步 他明 往前 开 娶 他开 盘儿\n",
      "None\n"
     ]
    }
   ],
   "source": [
    "# 《骆驼祥子》用字分析\n",
    "\n",
    "import nltk\n",
    "def getTextFromFile(filename): # 导入文本文件\n",
    "    with open(filename, 'r', encoding = 'utf-8') as file:\n",
    "        raw = file.readlines() # 读取所有行\n",
    "        raw = [item.strip() for item in raw] # 去除每行文字首尾多余空格\n",
    "        raw = ''.join(raw) # 拼接成一个字符串\n",
    "        return raw\n",
    "    \n",
    "txt = getTextFromFile('data/骆驼祥子.txt')\n",
    "print(txt[0 : 100])\n",
    "\n",
    "import jieba\n",
    "def splitWords(txt): # 进行分词\n",
    "    cut_res = jieba.cut(txt)\n",
    "    return list(cut_res)\n",
    "\n",
    "cut_txt = splitWords(txt)\n",
    "print(\"/\".join(cut_txt[0:100]))\n",
    "\n",
    "from nltk.probability import FreqDist\n",
    "def showInfo(cut_txt): # 显示高频词条\n",
    "    fdist = FreqDist(cut_txt)\n",
    "    print(\"词组总数:%d\" % len(cut_txt))\n",
    "    print(\"词组数:%d\" % len(fdist))\n",
    "    print(\"平均每词出现次数:%.2f\" % (len(cut_txt)/len(fdist)))\n",
    "    return fdist\n",
    "\n",
    "fdist = showInfo(cut_txt)\n",
    "tops = fdist.most_common(20)\n",
    "print(tops)\n",
    "\n",
    "def getStopWord(filename): # 去除停用词\n",
    "    with open(filename, \"r\", encoding = 'utf-8') as file:\n",
    "        stopWords = file.readlines()\n",
    "        stopWords = [word[:-1] for word in stopWords]\n",
    "        return stopWords\n",
    "\n",
    "stopWords = getStopWord(\"data/停用词.txt\")\n",
    "cut_txt = [word for word in cut_txt if word not in stopWords]\n",
    "# 利用列表推导式去除停用词\n",
    "fdist = showInfo(cut_txt)\n",
    "tops = fdist.most_common(20)\n",
    "print(tops)\n",
    "\n",
    "from wordcloud import WordCloud\n",
    "wordcloud = WordCloud(font_path = 'simhei.ttf', # 字体\n",
    "                      background_color = 'black', # 背景色\n",
    "                      width = 400, #图片宽度\n",
    "                      height = 300, #图片高度\n",
    "                      max_words = 100, # 最大显示词组数\n",
    "                      max_font_size = 80, #频率最大单词字体大小\n",
    "                     ).generate_from_frequencies(fdist)\n",
    "image = wordcloud.to_image()\n",
    "image.show()\n",
    "\n",
    "fdistZi = FreqDist(txt)\n",
    "for key in list(fdistZi.keys()): # 统计单字\n",
    "    if key in stopWords:\n",
    "        fdistZi.pop(key)\n",
    "print(\"字总数:%d\" % len(txt))\n",
    "print(\"字数:%d\" % len(fdistZi))\n",
    "print(\"平均每字出现次数:%.2f\" % (len(txt)/len(fdistZi)))\n",
    "tops = fdistZi.most_common(50)\n",
    "print(tops)\n",
    "\n",
    "text1 = nltk.Text(cut_txt) # 寻找相似词\n",
    "print(text1.similar('拉'))"
   ]
  },
  {
   "cell_type": "code",
   "execution_count": 6,
   "id": "f02b31d3",
   "metadata": {
    "scrolled": true
   },
   "outputs": [
    {
     "name": "stdout",
     "output_type": "stream",
     "text": [
      "array1: [5 0 3 3 7]\n",
      "array2: [[ 9 83 21]\n",
      " [36 87 70]\n",
      " [88 88 12]]\n",
      "2\n",
      "(3, 3)\n",
      "9\n",
      "int32\n",
      "3.14\n",
      "基于ndarry用时： 0.1833810806274414\n",
      "3.14\n",
      "基于lsit用时： 4.510461330413818\n",
      "请输入n：5\n",
      "[[17 24  1  8 15]\n",
      " [23  5  7 14 16]\n",
      " [ 4  6 13 20 22]\n",
      " [10 12 19 21  3]\n",
      " [11 18 25  2  9]]\n"
     ]
    }
   ],
   "source": [
    "# numpy简单应用\n",
    "\n",
    "import numpy as np\n",
    "np.random.seed(0) # 设置随机种子数\n",
    "array1 = np.random.randint(10, size = 5)\n",
    "print(\"array1:\", array1)\n",
    "\n",
    "array2 = np.random.randint(100, size = (3, 3))\n",
    "print(\"array2:\", array2)\n",
    "\n",
    "print(array2.ndim)\n",
    "print(array2.shape)\n",
    "print(array2.size)\n",
    "print(array2.dtype)\n",
    "\n",
    "# 蒙特卡洛求圆周率性能对比\n",
    "\n",
    "import time\n",
    "time_start = time.time()\n",
    "counts = 5000000\n",
    "pos = np.random.random((counts, 2))\n",
    "m = np.count_nonzero(pos[:, 0] ** 2 + pos[:, 1] ** 2 <= 1)\n",
    "print(\"%.2f\" % (4.0 * m / pos[:, 0].size))\n",
    "time_end = time.time()\n",
    "print(\"基于ndarry用时：\", time_end - time_start)\n",
    "\n",
    "import random\n",
    "time_start = time.time()\n",
    "m = 0\n",
    "for i in range(counts):\n",
    "    x = random.random()\n",
    "    y = random.random()\n",
    "    if x * x + y * y <= 1:\n",
    "        m = m + 1\n",
    "print(\"%.2f\" % (4.0 * m / counts))\n",
    "time_end = time.time()\n",
    "print(\"基于lsit用时：\", time_end - time_start)\n",
    "\n",
    "# 魔方阵\n",
    "\n",
    "n = int(input(\"请输入n：\"))\n",
    "res = np.zeros((n, n),dtype = int)\n",
    "i = 1 # 首先放1\n",
    "row = 0 # 第0行\n",
    "col = n // 2 # 正中间一列\n",
    "while i <= n * n:\n",
    "    res[row, col] = i # 放元素\n",
    "    tempRow = row - 1 # 行数-1\n",
    "    if tempRow < 0: # 如果已经到首行之前，则转尾行\n",
    "        tempRow = n - 1\n",
    "    tempCol = col + 1 # 列数+1\n",
    "    if tempCol == n:\n",
    "        tempCol = 0\n",
    "    if res[tempRow, tempCol] != 0: # 如果计算出的结果已经有元素\n",
    "        tempRow = row + 1 # 刚才的计算位置无用\n",
    "        tempCol = col # 直接放正下方\n",
    "    row = tempRow # 把临时结果转正\n",
    "    col = tempCol\n",
    "    i += 1\n",
    "print(res)"
   ]
  },
  {
   "cell_type": "code",
   "execution_count": 5,
   "id": "75071ce5",
   "metadata": {},
   "outputs": [
    {
     "name": "stdout",
     "output_type": "stream",
     "text": [
      "0\n",
      "0\n",
      "{'北大': 405, '清华': 406, '南大': 399}\n",
      "北大    405\n",
      "清华    406\n",
      "南大    399\n",
      "dtype: int64\n",
      "北大    405\n",
      "清华    406\n",
      "南大    399\n",
      "dtype: int64\n",
      "Jerry    13\n",
      "Tom      10\n",
      "dtype: int64\n",
      "        a   b   c   d   e\n",
      "one     0   1   2   3   4\n",
      "two     5   6   7   8   9\n",
      "three  10  11  12  13  14\n",
      "   one  two  three\n",
      "a    0    5     10\n",
      "b    1    6     11\n",
      "c    2    7     12\n",
      "d    3    8     13\n",
      "e    4    9     14\n",
      "Index(['a', 'b', 'c', 'd', 'e'], dtype='object')\n",
      "Index(['one', 'two', 'three'], dtype='object')\n",
      "        id name      area  population\n",
      "7   320000  江苏省  102600.0    80410000\n",
      "12  370000  山东省  157100.0   105970000\n",
      "13  410000  河南省  167000.0    95920000\n",
      "16  440000  广东省  179800.0   125030000\n",
      "18  510000  四川省  486000.0    83410000\n",
      "        id name      area  population\n",
      "7   320000  江苏省  102600.0    80410000\n",
      "12  370000  山东省  157100.0   105970000\n",
      "13  410000  河南省  167000.0    95920000\n",
      "16  440000  广东省  179800.0   125030000\n",
      "18  510000  四川省  486000.0    83410000\n",
      "合计人数为: 1339400000\n",
      "平均人数为: 41856250.0\n",
      "人数最少为: 640000 澳门特别行政区\n",
      "人数最多为: 125030000 广东省\n"
     ]
    }
   ],
   "source": [
    "# pandas简单应用\n",
    "\n",
    "# Series特点\n",
    "\n",
    "import pandas as pd\n",
    "import numpy as np\n",
    "couns = pd.Series(0, index = ['的', '是', '一'])\n",
    "print(couns[0]) # 通过下标访问元素\n",
    "print(couns['的']) # 通过索引访问元素\n",
    "\n",
    "dict1 = {'北大':405, '清华':406, '南大':399}\n",
    "print(dict1)\n",
    "data2 = pd.Series(dict1)\n",
    "print(data2)\n",
    "print(data2['北大':'南大'])\n",
    "\n",
    "tickets1 = pd.Series([3, 5], index = ['Tom', 'Jerry'])\n",
    "tickets2 = pd.Series([8, 7], index = ['Jerry', 'Tom'])\n",
    "tickets3 = tickets1 + tickets2\n",
    "print(tickets3)\n",
    "\n",
    "# DataFrame简单应用\n",
    "\n",
    "data = pd.DataFrame(np.arange(15).reshape(3, 5),\n",
    "                    index = ['one', 'two', 'three'],\n",
    "                    columns = ['a', 'b', 'c', 'd', 'e'])\n",
    "print(data)\n",
    "data = data.T # 转置\n",
    "print(data)\n",
    "print(data.index)\n",
    "print(data.columns)\n",
    "\n",
    "# 统计中国各省面积和人口数据\n",
    "\n",
    "data = pd.read_csv(R\"data/province.csv\", encoding = \"utf-8\",\n",
    "                   names=['id', 'name', 'area', 'population'],\n",
    "                   header = 0)\n",
    "print(data[data['population']>70000000])\n",
    "print(data.loc[data['population']>70000000])\n",
    "print(\"合计人数为:\", data['population'].sum())\n",
    "print(\"平均人数为:\", data['population'].mean())\n",
    "minPop = data['population'].min()\n",
    "print(\"人数最少为:\", minPop, data.loc[data.population == minPop, 'name'].values[0])\n",
    "maxPop = data['population'].max()\n",
    "print(\"人数最多为:\", maxPop, data.loc[data.population == maxPop, 'name'].values[0])"
   ]
  },
  {
   "cell_type": "code",
   "execution_count": 32,
   "id": "9744cba6",
   "metadata": {},
   "outputs": [
    {
     "data": {
      "image/png": "[encoded data removed]",
      "text/plain": [
       "<Figure size 640x480 with 1 Axes>"
      ]
     },
     "metadata": {},
     "output_type": "display_data"
    },
    {
     "data": {
      "image/png": "[encoded data removed]",
      "text/plain": [
       "<Figure size 640x480 with 1 Axes>"
      ]
     },
     "metadata": {},
     "output_type": "display_data"
    },
    {
     "data": {
      "image/png": "[encoded data removed]",
      "text/plain": [
       "<Figure size 640x480 with 1 Axes>"
      ]
     },
     "metadata": {},
     "output_type": "display_data"
    },
    {
     "data": {
      "image/png": "[encoded data removed]",
      "text/plain": [
       "<Figure size 640x480 with 1 Axes>"
      ]
     },
     "metadata": {},
     "output_type": "display_data"
    },
    {
     "data": {
      "image/png": "[encoded data removed]",
      "text/plain": [
       "<Figure size 640x480 with 1 Axes>"
      ]
     },
     "metadata": {},
     "output_type": "display_data"
    },
    {
     "data": {
      "image/png": "[encoded data removed]",
      "text/plain": [
       "<Figure size 640x480 with 1 Axes>"
      ]
     },
     "metadata": {},
     "output_type": "display_data"
    },
    {
     "data": {
      "image/png": "[encoded data removed]",
      "text/plain": [
       "<Figure size 640x480 with 1 Axes>"
      ]
     },
     "metadata": {},
     "output_type": "display_data"
    },
    {
     "data": {
      "image/png": "[encoded data removed]",
      "text/plain": [
       "<Figure size 640x480 with 2 Axes>"
      ]
     },
     "metadata": {},
     "output_type": "display_data"
    },
    {
     "name": "stderr",
     "output_type": "stream",
     "text": [
      "D:\\Software\\Anaconda\\Lib\\site-packages\\IPython\\core\\pylabtools.py:152: UserWarning: Glyph 34218 (\\N{CJK UNIFIED IDEOGRAPH-85AA}) missing from current font.\n",
      "  fig.canvas.print_figure(bytes_io, **kw)\n",
      "D:\\Software\\Anaconda\\Lib\\site-packages\\IPython\\core\\pylabtools.py:152: UserWarning: Glyph 37228 (\\N{CJK UNIFIED IDEOGRAPH-916C}) missing from current font.\n",
      "  fig.canvas.print_figure(bytes_io, **kw)\n",
      "D:\\Software\\Anaconda\\Lib\\site-packages\\IPython\\core\\pylabtools.py:152: UserWarning: Glyph 26631 (\\N{CJK UNIFIED IDEOGRAPH-6807}) missing from current font.\n",
      "  fig.canvas.print_figure(bytes_io, **kw)\n",
      "D:\\Software\\Anaconda\\Lib\\site-packages\\IPython\\core\\pylabtools.py:152: UserWarning: Glyph 39064 (\\N{CJK UNIFIED IDEOGRAPH-9898}) missing from current font.\n",
      "  fig.canvas.print_figure(bytes_io, **kw)\n",
      "D:\\Software\\Anaconda\\Lib\\site-packages\\IPython\\core\\pylabtools.py:152: UserWarning: Glyph 26102 (\\N{CJK UNIFIED IDEOGRAPH-65F6}) missing from current font.\n",
      "  fig.canvas.print_figure(bytes_io, **kw)\n",
      "D:\\Software\\Anaconda\\Lib\\site-packages\\IPython\\core\\pylabtools.py:152: UserWarning: Glyph 38388 (\\N{CJK UNIFIED IDEOGRAPH-95F4}) missing from current font.\n",
      "  fig.canvas.print_figure(bytes_io, **kw)\n"
     ]
    },
    {
     "data": {
      "image/png": "[encoded data removed]",
      "text/plain": [
       "<Figure size 800x600 with 1 Axes>"
      ]
     },
     "metadata": {},
     "output_type": "display_data"
    }
   ],
   "source": [
    "# 数据可视化\n",
    "\n",
    "import  matplotlib.pyplot as plt\n",
    "import numpy as np\n",
    "x = np.arange(-np.pi, np.pi, 0.1)\n",
    "y = np.sin(x)\n",
    "plt.plot(x, y, color = 'blue', linewidth = 2.0, linestyle = '-') # 蓝色、2像素宽、实线\n",
    "plt.plot(x, y+1, color = 'red', linewidth = 2.0, linestyle = '-.') # 红色、2像素宽、点划线\n",
    "plt.plot(x, y+0.5, color = 'green', linewidth = 2.0, linestyle = ':') # 绿色、2像素宽、虚线\n",
    "plt.plot(x, y-0.5, color = 'black', linewidth = 2.0, linestyle = '--') # 黑色、2像素宽、双划线\n",
    "plt.grid(True) # 网格线\n",
    "plt.show()\n",
    "\n",
    "x = np.arange(-5, 5, 0.1)\n",
    "y = x ** 2\n",
    "plt.xlim(-5, 5) # 横坐标范围\n",
    "plt.ylim(0, 100) # 纵坐标范围\n",
    "plt.xlabel(\"x\") # 横轴标识\n",
    "plt.ylabel(\"y=x*x\") # 纵轴标识\n",
    "plt.title(\"Plot y=x*x\") # 图形标题\n",
    "plt.plot(x, y)\n",
    "plt.show()\n",
    "\n",
    "x = np.linspace(-np.pi, np.pi, 100)\n",
    "cos = np.cos(x)\n",
    "plt.xticks(np.linspace(-np.pi, np.pi, 5)) # 坐标轴刻度\n",
    "plt.plot(x, cos, color = 'red', linewidth = 2.0)\n",
    "plt.show()\n",
    "\n",
    "plt.plot(x, np.sin(x), color = 'blue', linewidth = 2.0, label = 'sin')\n",
    "plt.plot(x, np.cos(x), color = 'red', linewidth = 2.0, label = 'cos')\n",
    "plt.legend(loc = 'upper left') # 图例\n",
    "plt.show()\n",
    "\n",
    "data = np.random.randint(1, 11, 5)\n",
    "plt.pie(data, explode = [0, 0, 0.1, 0, 0]) # 饼图，拖出饼强调显示\n",
    "plt.show()\n",
    "\n",
    "x = np.random.normal(0, 1, 100)\n",
    "y = np.random.normal(0, 1, 100)\n",
    "plt.scatter(x, y) # 散点图\n",
    "plt.show()\n",
    "\n",
    "data = np.random.randint(1, 10, 10)\n",
    "x = np.arange(len(data))\n",
    "plt.bar(x, data, color = 'b', width = 0.5) # 柱状图\n",
    "plt.show()\n",
    "\n",
    "x = np.linspace(0, 5, 10)\n",
    "y = x ** 2\n",
    "plt.subplot(1, 2, 1) # 子窗口制图\n",
    "plt.plot(x, y, 'r--')\n",
    "plt.subplot(1, 2, 2)\n",
    "plt.plot(y, x, 'g*-')\n",
    "plt.show()\n",
    "\n",
    "fig, axes = plt.subplots(figsize = (8, 6), dpi = 100) # 图片大小和分辨率\n",
    "axes.plot(x, y, 'r')\n",
    "axes.set_xlabel('时间')\n",
    "axes.set_ylabel('薪酬')\n",
    "axes.set_title('标题')\n",
    "plt.show()"
   ]
  }
 ],
 "metadata": {
  "kernelspec": {
   "display_name": "Python 3 (ipykernel)",
   "language": "python",
   "name": "python3"
  },
  "language_info": {
   "codemirror_mode": {
    "name": "ipython",
    "version": 3
   },
   "file_extension": ".py",
   "mimetype": "text/x-python",
   "name": "python",
   "nbconvert_exporter": "python",
   "pygments_lexer": "ipython3",
   "version": "3.11.5"
  }
 },
 "nbformat": 4,
 "nbformat_minor": 5
}
